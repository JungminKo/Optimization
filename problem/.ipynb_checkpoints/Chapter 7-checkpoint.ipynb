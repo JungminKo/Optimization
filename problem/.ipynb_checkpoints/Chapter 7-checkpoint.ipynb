{
 "cells": [
  {
   "cell_type": "code",
   "execution_count": 1,
   "metadata": {},
   "outputs": [],
   "source": [
    "import numpy as np\n",
    "import matplotlib.pyplot as plt"
   ]
  },
  {
   "cell_type": "markdown",
   "metadata": {},
   "source": [
    "# 7.2"
   ]
  },
  {
   "cell_type": "code",
   "execution_count": 2,
   "metadata": {},
   "outputs": [],
   "source": [
    "def f(x):\n",
    "    if np.isscalar(x):\n",
    "        return x * x + 4 * np.cos(x)\n",
    "    return np.transpose(x)*x+4*np.cos(x)"
   ]
  },
  {
   "cell_type": "markdown",
   "metadata": {},
   "source": [
    "### a"
   ]
  },
  {
   "cell_type": "code",
   "execution_count": 3,
   "metadata": {
    "scrolled": true
   },
   "outputs": [
    {
     "data": {
      "text/plain": [
       "[<matplotlib.lines.Line2D at 0x1db4d04c2c8>]"
      ]
     },
     "execution_count": 3,
     "metadata": {},
     "output_type": "execute_result"
    },
    {
     "data": {
      "image/png": "[encoded data removed]",
      "text/plain": [
       "<Figure size 432x288 with 1 Axes>"
      ]
     },
     "metadata": {
      "needs_background": "light"
     },
     "output_type": "display_data"
    }
   ],
   "source": [
    "x = np.arange(1,2, 0.01)\n",
    "y = f(x)\n",
    "plt.plot(x, y)"
   ]
  },
  {
   "cell_type": "markdown",
   "metadata": {},
   "source": [
    "### b"
   ]
  },
  {
   "cell_type": "code",
   "execution_count": 4,
   "metadata": {},
   "outputs": [],
   "source": [
    "GOLDEN_SECTION = (3-np.sqrt(5))/2"
   ]
  },
  {
   "cell_type": "code",
   "execution_count": 5,
   "metadata": {},
   "outputs": [
    {
     "data": {
      "text/plain": [
       "3.3445518763691098"
      ]
     },
     "execution_count": 5,
     "metadata": {},
     "output_type": "execute_result"
    }
   ],
   "source": [
    "# N is greater than number below\n",
    "np.log(0.2)/np.log(1-GOLDEN_SECTION)"
   ]
  },
  {
   "cell_type": "code",
   "execution_count": 6,
   "metadata": {},
   "outputs": [],
   "source": [
    "def golden_section(a, b):\n",
    "    a_1 = a + GOLDEN_SECTION * (b-a)\n",
    "    b_1 = a + (1-GOLDEN_SECTION) * (b-a)\n",
    "    \n",
    "    y_a = f(a_1)\n",
    "    y_b = f(b_1)\n",
    "    \n",
    "    print(a_1, b_1, y_a, y_b)\n",
    "    \n",
    "    if y_a < y_b:\n",
    "        return a, b_1\n",
    "    \n",
    "    return a_1, b "
   ]
  },
  {
   "cell_type": "code",
   "execution_count": 7,
   "metadata": {},
   "outputs": [
    {
     "name": "stdout",
     "output_type": "stream",
     "text": [
      "1.381966011250105 1.618033988749895 2.660670580070181 2.4291536037324555\n",
      "(1.381966011250105, 2)\n",
      "\n",
      "1.618033988749895 1.7639320225002102 2.4291536037324555 2.3437072683700113\n",
      "(1.618033988749895, 2)\n",
      "\n",
      "1.7639320225002102 1.8541019662496847 2.3437072683700113 2.319569958647457\n",
      "(1.7639320225002102, 2)\n",
      "\n",
      "1.8541019662496845 1.9098300562505257 2.319569958647457 2.3171469216226592\n",
      "(1.8541019662496845, 2)\n",
      "\n"
     ]
    }
   ],
   "source": [
    "a = (1, 2)\n",
    "for _ in range(4):\n",
    "    a = golden_section(*a)\n",
    "    print(a)\n",
    "    print()"
   ]
  },
  {
   "cell_type": "markdown",
   "metadata": {},
   "source": [
    "# c"
   ]
  },
  {
   "cell_type": "code",
   "execution_count": 8,
   "metadata": {},
   "outputs": [],
   "source": [
    "def fibonacci(a, b, num, epsilon = 0.05):\n",
    "    fib_list = [1, 1]\n",
    "    for _ in range(num):\n",
    "        fib_list.append(fib_list[-2]+ fib_list[-1])\n",
    "    \n",
    "    for i in range(num-1):\n",
    "        print(a, b)\n",
    "        COEFF = fib_list[-i-2]/fib_list[-i-1]\n",
    "        print(COEFF)\n",
    "        a_1 = a + (1-COEFF)*(b-a)\n",
    "        b_1 = a + COEFF*(b-a)\n",
    "        \n",
    "        y_a = f(a_1)\n",
    "        y_b = f(b_1)\n",
    "\n",
    "        print(a_1, b_1, y_a, y_b)\n",
    "        print()\n",
    "        if y_a < y_b:\n",
    "            a = a\n",
    "            b = b_1\n",
    "            continue\n",
    "        \n",
    "        a = a_1\n",
    "        b = b\n",
    "        \n",
    "    COEFF = 1/2\n",
    "    print(a, b)\n",
    "    a_1 = a + (COEFF-epsilon)*(b-a)\n",
    "    b_1 = a + (COEFF+epsilon)* (b-a)\n",
    "    \n",
    "    y_a = f(a_1)\n",
    "    y_b = f(b_1)\n",
    "\n",
    "    print(a_1, b_1, y_a, y_b)\n",
    "\n",
    "    if y_a < y_b:\n",
    "        return a, b_1\n",
    "\n",
    "    return a_1, b"
   ]
  },
  {
   "cell_type": "code",
   "execution_count": 9,
   "metadata": {},
   "outputs": [
    {
     "name": "stdout",
     "output_type": "stream",
     "text": [
      "1 2\n",
      "0.625\n",
      "1.375 1.625 2.668815831955949 2.4239164598922547\n",
      "\n",
      "1.375 2\n",
      "0.6\n",
      "1.625 1.75 2.4239164598922547 2.349515777402032\n",
      "\n",
      "1.625 2\n",
      "0.6666666666666666\n",
      "1.75 1.875 2.349515777402032 2.3174909752417037\n",
      "\n",
      "1.75 2\n",
      "1.8625 1.8875 2.3185688750345843 2.3169127814525936\n"
     ]
    },
    {
     "data": {
      "text/plain": [
       "(1.8625, 2)"
      ]
     },
     "execution_count": 9,
     "metadata": {},
     "output_type": "execute_result"
    }
   ],
   "source": [
    "fibonacci(1, 2, 4)"
   ]
  },
  {
   "cell_type": "markdown",
   "metadata": {},
   "source": [
    "# 7.3"
   ]
  },
  {
   "cell_type": "code",
   "execution_count": 10,
   "metadata": {},
   "outputs": [],
   "source": [
    "def f(x):\n",
    "    if np.isscalar(x):\n",
    "        return 8*np.exp(1-x) + 7 * np.log(x)\n",
    "    return 8*np.exp(np.ones_like(x)-x) + 7 * np.log(x)"
   ]
  },
  {
   "cell_type": "markdown",
   "metadata": {},
   "source": [
    "### a"
   ]
  },
  {
   "cell_type": "code",
   "execution_count": 11,
   "metadata": {},
   "outputs": [
    {
     "data": {
      "text/plain": [
       "[<matplotlib.lines.Line2D at 0x1db50383608>]"
      ]
     },
     "execution_count": 11,
     "metadata": {},
     "output_type": "execute_result"
    },
    {
     "data": {
      "image/png": "[encoded data removed]",
      "text/plain": [
       "<Figure size 432x288 with 1 Axes>"
      ]
     },
     "metadata": {
      "needs_background": "light"
     },
     "output_type": "display_data"
    }
   ],
   "source": [
    "x = np.arange(1,2, 0.01)\n",
    "y = f(x)\n",
    "plt.plot(x, y)"
   ]
  },
  {
   "cell_type": "markdown",
   "metadata": {},
   "source": [
    "### b"
   ]
  },
  {
   "cell_type": "code",
   "execution_count": 12,
   "metadata": {},
   "outputs": [],
   "source": [
    "GOLDEN_SECTION = (3-np.sqrt(5))/2"
   ]
  },
  {
   "cell_type": "code",
   "execution_count": 13,
   "metadata": {},
   "outputs": [
    {
     "data": {
      "text/plain": [
       "3.0541144118328893"
      ]
     },
     "execution_count": 13,
     "metadata": {},
     "output_type": "execute_result"
    }
   ],
   "source": [
    "# N is greater than number below\n",
    "np.log(0.23)/np.log(1-GOLDEN_SECTION)"
   ]
  },
  {
   "cell_type": "code",
   "execution_count": 14,
   "metadata": {},
   "outputs": [],
   "source": [
    "def golden_section(a, b, interval):\n",
    "    n = np.ceil(np.log(0.23)/np.log(1-GOLDEN_SECTION))\n",
    "    \n",
    "    for _ in range(int(n)):\n",
    "        a_1 = a + GOLDEN_SECTION * (b-a)\n",
    "        b_1 = a + (1-GOLDEN_SECTION) * (b-a)\n",
    "\n",
    "        y_a = f(a_1)\n",
    "        y_b = f(b_1)\n",
    "\n",
    "        print(a_1, b_1, y_a, y_b)\n",
    "\n",
    "        if y_a < y_b:\n",
    "            a = a\n",
    "            b = b_1\n",
    "            continue\n",
    "            \n",
    "        a = a_1\n",
    "        b = b\n",
    "    return a, b"
   ]
  },
  {
   "cell_type": "code",
   "execution_count": 15,
   "metadata": {},
   "outputs": [
    {
     "name": "stdout",
     "output_type": "stream",
     "text": [
      "1.381966011250105 1.618033988749895 7.724695924128396 7.680507437209581\n",
      "1.618033988749895 1.7639320225002102 7.680507437209581 7.699467246801767\n",
      "1.5278640450004204 1.618033988749895 7.686003353484316 7.680507437209581\n",
      "1.6180339887498947 1.673762078750736 7.680507437209581 7.683813693632115\n"
     ]
    },
    {
     "data": {
      "text/plain": [
       "(1.5278640450004204, 1.673762078750736)"
      ]
     },
     "execution_count": 15,
     "metadata": {},
     "output_type": "execute_result"
    }
   ],
   "source": [
    "golden_section(1, 2, 0.23)"
   ]
  },
  {
   "cell_type": "markdown",
   "metadata": {},
   "source": [
    "### c"
   ]
  },
  {
   "cell_type": "code",
   "execution_count": 16,
   "metadata": {},
   "outputs": [],
   "source": [
    "epsilon=0.05"
   ]
  },
  {
   "cell_type": "code",
   "execution_count": 17,
   "metadata": {
    "scrolled": true
   },
   "outputs": [
    {
     "data": {
      "text/plain": [
       "4.782608695652174"
      ]
     },
     "execution_count": 17,
     "metadata": {},
     "output_type": "execute_result"
    }
   ],
   "source": [
    "(1+2*epsilon)/0.23"
   ]
  },
  {
   "cell_type": "code",
   "execution_count": 18,
   "metadata": {},
   "outputs": [],
   "source": [
    "def fibonacci(a, b, interval, epsilon = 0.05):\n",
    "    fib_list = [1, 1]\n",
    "    while(True):\n",
    "        standard = (1+2*epsilon)/interval\n",
    "        new = fib_list[-2]+ fib_list[-1]\n",
    "        fib_list.append(new)\n",
    "        if new > standard:\n",
    "            break\n",
    "    print(fib_list)\n",
    "    num = len(fib_list)-2\n",
    "    print(num)\n",
    "    for i in range(num+1, 2, -1):\n",
    "        print(a, b)\n",
    "        print(i)\n",
    "        COEFF = fib_list[i-1]/fib_list[i]\n",
    "        print(COEFF)\n",
    "        a_1 = a + (1-COEFF)*(b-a)\n",
    "        b_1 = a + COEFF*(b-a)\n",
    "        \n",
    "        y_a = f(a_1)\n",
    "        y_b = f(b_1)\n",
    "\n",
    "        print(a_1, b_1, y_a, y_b)\n",
    "        print()\n",
    "        if y_a < y_b:\n",
    "            a = a\n",
    "            b = b_1\n",
    "            continue\n",
    "        \n",
    "        a = a_1\n",
    "        b = b\n",
    "        \n",
    "    COEFF = 1/2\n",
    "    print(a, b)\n",
    "    a_1 = a + (COEFF-epsilon)*(b-a)\n",
    "    b_1 = a + (COEFF+epsilon)* (b-a)\n",
    "    \n",
    "    y_a = f(a_1)\n",
    "    y_b = f(b_1)\n",
    "\n",
    "    print(a_1, b_1, y_a, y_b)\n",
    "\n",
    "    if y_a < y_b:\n",
    "        return a, b_1\n",
    "\n",
    "    return a_1, b"
   ]
  },
  {
   "cell_type": "code",
   "execution_count": 19,
   "metadata": {},
   "outputs": [
    {
     "name": "stdout",
     "output_type": "stream",
     "text": [
      "[1, 1, 2, 3, 5]\n",
      "3\n",
      "1 2\n",
      "4\n",
      "0.6\n",
      "1.4 1.6 7.717866024633604 7.680518493472361\n",
      "\n",
      "1.4 2\n",
      "3\n",
      "0.6666666666666666\n",
      "1.5999999999999999 1.7999999999999998 7.68051849347236 7.709138367252606\n",
      "\n",
      "1.4 1.7999999999999998\n",
      "1.5799999999999998 1.6199999999999999 7.681160861795345 7.680538545467445\n"
     ]
    },
    {
     "data": {
      "text/plain": [
       "(1.5799999999999998, 1.7999999999999998)"
      ]
     },
     "execution_count": 19,
     "metadata": {},
     "output_type": "execute_result"
    }
   ],
   "source": [
    "fibonacci(1, 2, 0.23)"
   ]
  },
  {
   "cell_type": "markdown",
   "metadata": {},
   "source": [
    "# 7.7"
   ]
  },
  {
   "cell_type": "code",
   "execution_count": 20,
   "metadata": {},
   "outputs": [],
   "source": [
    "def newton_77(x):\n",
    "    return x-1+2/np.exp(x)"
   ]
  },
  {
   "cell_type": "code",
   "execution_count": 21,
   "metadata": {},
   "outputs": [
    {
     "name": "stdout",
     "output_type": "stream",
     "text": [
      "0.7357588823428847\n",
      "0.6940422999189153\n"
     ]
    }
   ],
   "source": [
    "a = 1\n",
    "for _ in range(2):\n",
    "    a = newton_77(a)\n",
    "    print(a)"
   ]
  },
  {
   "cell_type": "markdown",
   "metadata": {},
   "source": [
    "# 7.8"
   ]
  },
  {
   "cell_type": "code",
   "execution_count": 22,
   "metadata": {},
   "outputs": [],
   "source": [
    "def g(x):\n",
    "    return (np.exp(x)-1)/(np.exp(x)+1)"
   ]
  },
  {
   "cell_type": "code",
   "execution_count": 23,
   "metadata": {},
   "outputs": [
    {
     "data": {
      "text/plain": [
       "[<matplotlib.lines.Line2D at 0x1db503fb248>]"
      ]
     },
     "execution_count": 23,
     "metadata": {},
     "output_type": "execute_result"
    },
    {
     "data": {
      "image/png": "[encoded data removed]",
      "text/plain": [
       "<Figure size 432x288 with 1 Axes>"
      ]
     },
     "metadata": {
      "needs_background": "light"
     },
     "output_type": "display_data"
    }
   ],
   "source": [
    "x = np.arange(-10,10, 0.1)\n",
    "y = g(x)\n",
    "plt.plot(x, y)"
   ]
  },
  {
   "cell_type": "markdown",
   "metadata": {},
   "source": [
    "# 7.10"
   ]
  },
  {
   "cell_type": "code",
   "execution_count": 24,
   "metadata": {},
   "outputs": [],
   "source": [
    "def g(x):\n",
    "    return pow((2*x-1), 2) + 4*pow((4-1024*x), 4)\n",
    "\n",
    "def g_1(x):\n",
    "    return 2*2*(2*x-1) - 4*4*1024*pow((4-1024*x),3)"
   ]
  },
  {
   "cell_type": "code",
   "execution_count": 25,
   "metadata": {},
   "outputs": [],
   "source": [
    "def secant(x_0, x_1, g, epsilon=1e-5):\n",
    "    while(True):\n",
    "        x = (g(x_1)*x_0 - g(x_0)*x_1)/(g(x_1)-g(x_0))\n",
    "        \n",
    "        if np.abs(x_1-x) < np.abs(x)*epsilon:\n",
    "            return x, g(x)\n",
    "        \n",
    "        x_0 = x_1\n",
    "        x_1 = x"
   ]
  },
  {
   "cell_type": "code",
   "execution_count": 26,
   "metadata": {},
   "outputs": [
    {
     "data": {
      "text/plain": [
       "(0.003967123304268626, -9.908040121686668e-08)"
      ]
     },
     "execution_count": 26,
     "metadata": {},
     "output_type": "execute_result"
    }
   ],
   "source": [
    "secant(0, 1, g_1)"
   ]
  },
  {
   "cell_type": "code",
   "execution_count": null,
   "metadata": {},
   "outputs": [],
   "source": []
  }
 ],
 "metadata": {
  "kernelspec": {
   "display_name": "pytorch",
   "language": "python",
   "name": "pytor"
  },
  "language_info": {
   "codemirror_mode": {
    "name": "ipython",
    "version": 3
   },
   "file_extension": ".py",
   "mimetype": "text/x-python",
   "name": "python",
   "nbconvert_exporter": "python",
   "pygments_lexer": "ipython3",
   "version": "3.7.6"
  }
 },
 "nbformat": 4,
 "nbformat_minor": 4
}
