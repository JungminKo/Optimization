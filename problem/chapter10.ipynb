{
 "cells": [
  {
   "cell_type": "code",
   "execution_count": 1,
   "id": "424447d2",
   "metadata": {},
   "outputs": [],
   "source": [
    "import numpy as np\n",
    "from icecream import ic"
   ]
  },
  {
   "cell_type": "code",
   "execution_count": 2,
   "id": "9a4af150",
   "metadata": {},
   "outputs": [],
   "source": [
    "def calc_quadratic_gradient(Q, b, point):\n",
    "    return Q@point - b\n",
    "\n",
    "def conjugate_gradient_algorithm_quadratic(Q, b, initial_point, threshold = 1e-3, maxiter = 10):\n",
    "    conjugate_list = []\n",
    "    gradient_list = []\n",
    "    point_list = []\n",
    "    alpha_list = []\n",
    "    beta_list = []\n",
    "    point = initial_point\n",
    "    \n",
    "    i = 0\n",
    "    \n",
    "    point = initial_point\n",
    "    point_list.append(point)\n",
    "    gradient = calc_quadratic_gradient(Q, b, point)\n",
    "    if np.linalg.norm(gradient) < threshold:\n",
    "        print(\"finish\")\n",
    "        return\n",
    "    else:\n",
    "        conjugate = - gradient\n",
    "        conjugate_list.append(conjugate)\n",
    "        \n",
    "    while True:\n",
    "        i +=1\n",
    "        alpha = - (gradient.T@conjugate)/(conjugate.T@Q@conjugate)\n",
    "        alpha_list.append(alpha)\n",
    "        \n",
    "        next_point = point + alpha * conjugate\n",
    "        next_gradient = calc_quadratic_gradient(Q, b, next_point)\n",
    "        point_list.append(next_point)\n",
    "        gradient_list.append(next_gradient)\n",
    "        \n",
    "        if (np.linalg.norm(next_gradient) < threshold) or (i>maxiter):\n",
    "            print(\"%d iterations : finish\"%i)\n",
    "            ic(point_list, gradient_list, conjugate_list, alpha_list, beta_list)\n",
    "            return \n",
    "        \n",
    "        beta = (next_gradient.T@Q@conjugate)/(conjugate.T@Q@conjugate)\n",
    "        beta_list.append(beta)\n",
    "        \n",
    "        next_conjugate = -next_gradient + beta * conjugate\n",
    "\n",
    "        gradient = next_gradient\n",
    "        conjugate = next_conjugate\n",
    "        point = next_point\n",
    "        \n",
    "        \n",
    "        conjugate_list.append(conjugate)\n",
    "        "
   ]
  },
  {
   "cell_type": "markdown",
   "id": "e1bb4f13",
   "metadata": {},
   "source": [
    "# 10.10"
   ]
  },
  {
   "cell_type": "code",
   "execution_count": 3,
   "id": "0122a59e",
   "metadata": {},
   "outputs": [],
   "source": [
    "Q = np.array([[5,2],[2,1]])\n",
    "b = np.array([[3,1]]).T\n",
    "x = np.array([[0,0]]).T"
   ]
  },
  {
   "cell_type": "code",
   "execution_count": 4,
   "id": "cfa1989e",
   "metadata": {},
   "outputs": [
    {
     "name": "stderr",
     "output_type": "stream",
     "text": [
      "ic| point_list: [array([[0],\n",
      "                       [0]]),\n",
      "                 array([[0.51724138],\n",
      "                       [0.17241379]]),\n",
      "                 array([[ 1.],\n",
      "                       [-1.]])]\n",
      "    gradient_list: [array([[-0.06896552],\n",
      "                          [ 0.20689655]]),\n",
      "                    array([[8.8817842e-16],\n",
      "                          [4.4408921e-16]])]\n",
      "    conjugate_list: [array([[3],\n",
      "                           [1]]), array([[ 0.08323424],\n",
      "                           [-0.20214031]])]\n",
      "    alpha_list: [array([[0.17241379]]), array([[5.8]])]\n",
      "    beta_list: [array([[0.00475624]])]\n"
     ]
    },
    {
     "name": "stdout",
     "output_type": "stream",
     "text": [
      "2 iterations : finish\n"
     ]
    }
   ],
   "source": [
    "conjugate_gradient_algorithm_quadratic(Q, b, x)"
   ]
  }
 ],
 "metadata": {
  "kernelspec": {
   "display_name": "pytorch",
   "language": "python",
   "name": "pytor"
  },
  "language_info": {
   "codemirror_mode": {
    "name": "ipython",
    "version": 3
   },
   "file_extension": ".py",
   "mimetype": "text/x-python",
   "name": "python",
   "nbconvert_exporter": "python",
   "pygments_lexer": "ipython3",
   "version": "3.7.6"
  }
 },
 "nbformat": 4,
 "nbformat_minor": 5
}
