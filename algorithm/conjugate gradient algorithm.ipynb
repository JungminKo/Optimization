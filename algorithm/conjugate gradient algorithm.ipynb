{
 "cells": [
  {
   "cell_type": "code",
   "execution_count": null,
   "id": "4791f2d6",
   "metadata": {},
   "outputs": [],
   "source": [
    "import numpy as np\n",
    "from icecream import ic"
   ]
  },
  {
   "cell_type": "code",
   "execution_count": null,
   "id": "93ae6ac7",
   "metadata": {},
   "outputs": [],
   "source": [
    "def calc_quadratic_gradient(Q, b, point):\n",
    "    return Q@point - b\n",
    "\n",
    "def conjugate_gradient_algorithm_quadratic(Q, b, initial_point, threshold = 1e-3, maxiter = 10):\n",
    "    conjugate_list = []\n",
    "    gradient_list = []\n",
    "    point_list = []\n",
    "    alpha_list = []\n",
    "    beta_list = []\n",
    "    point = initial_point\n",
    "    \n",
    "    i = 0\n",
    "    \n",
    "    point = initial_point\n",
    "    point_list.append(point)\n",
    "    gradient = calc_quadratic_gradient(Q, b, point)\n",
    "    if np.linalg.norm(gradient) < threshold:\n",
    "        print(\"finish\")\n",
    "        return\n",
    "    else:\n",
    "        conjugate = - gradient\n",
    "        conjugate_list.append(conjugate)\n",
    "        \n",
    "    while True:\n",
    "        i +=1\n",
    "        alpha = - (gradient.T@conjugate)/(conjugate.T@Q@conjugate)\n",
    "        alpha_list.append(alpha)\n",
    "        \n",
    "        next_point = point + alpha * conjugate\n",
    "        next_gradient = calc_quadratic_gradient(Q, b, next_point)\n",
    "        point_list.append(next_point)\n",
    "        gradient_list.append(next_gradient)\n",
    "        \n",
    "        if (np.linalg.norm(next_gradient) < threshold) or (i>maxiter):\n",
    "            print(\"%d iterations : finish\"%i)\n",
    "            ic(point_list, gradient_list, conjugate_list, alpha_list, beta_list)\n",
    "            return \n",
    "        \n",
    "        beta = (next_gradient.T@Q@conjugate)/(conjugate.T@Q@conjugate)\n",
    "        beta_list.append(beta)\n",
    "        \n",
    "        next_conjugate = -next_gradient + beta * conjugate\n",
    "\n",
    "        gradient = next_gradient\n",
    "        conjugate = next_conjugate\n",
    "        point = next_point\n",
    "        \n",
    "        \n",
    "        conjugate_list.append(conjugate)\n",
    "        "
   ]
  }
 ],
 "metadata": {
  "kernelspec": {
   "display_name": "pytorch",
   "language": "python",
   "name": "pytor"
  },
  "language_info": {
   "codemirror_mode": {
    "name": "ipython",
    "version": 3
   },
   "file_extension": ".py",
   "mimetype": "text/x-python",
   "name": "python",
   "nbconvert_exporter": "python",
   "pygments_lexer": "ipython3",
   "version": "3.7.6"
  }
 },
 "nbformat": 4,
 "nbformat_minor": 5
}
