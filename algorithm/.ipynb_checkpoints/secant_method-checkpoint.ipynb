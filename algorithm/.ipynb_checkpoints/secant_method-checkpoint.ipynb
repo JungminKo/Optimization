{
 "cells": [
  {
   "cell_type": "code",
   "execution_count": null,
   "id": "464dc5e7",
   "metadata": {},
   "outputs": [],
   "source": [
    "def line_search_secant(function, initial_point, threshold = 1e-5, max_iteration = 1000):\n",
    "    point_storage = []\n",
    "    point = initial_point\n",
    "    \n",
    "    point_storage.append(point)\n",
    "    point_two_before = point\n",
    "    \n",
    "    point_storage.append(point + 0.5)\n",
    "    point_one_before = point + 0.5\n",
    "    \n",
    "    point_storage.append(point + 1)\n",
    "    point = point + 1\n",
    "    \n",
    "    i = 1\n",
    "    while True:\n",
    "        i+=1\n",
    "        point = point_one_before - function(point_one_before)*(point_one_before-point_two_before)/(function(point_one_before)-function(point_two_before))\n",
    "        \n",
    "        point_storage.append(point)\n",
    "        compare_value = np.linalg.norm(point - point_one_before)\n",
    "        \n",
    "        if ((compare_value < threshold) and (point>=0)) or (i >max_iteration):\n",
    "            #print(compare_value)\n",
    "            #print(\"Convergence at {} iterations\".format(i))\n",
    "            return point\n",
    "            #break\n",
    "        \n",
    "        point_two_before = point_one_before\n",
    "        point_one_before = point"
   ]
  }
 ],
 "metadata": {
  "kernelspec": {
   "display_name": "pytorch",
   "language": "python",
   "name": "pytor"
  },
  "language_info": {
   "codemirror_mode": {
    "name": "ipython",
    "version": 3
   },
   "file_extension": ".py",
   "mimetype": "text/x-python",
   "name": "python",
   "nbconvert_exporter": "python",
   "pygments_lexer": "ipython3",
   "version": "3.7.6"
  }
 },
 "nbformat": 4,
 "nbformat_minor": 5
}
