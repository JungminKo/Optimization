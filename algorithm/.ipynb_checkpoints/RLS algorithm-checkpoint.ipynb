{
 "cells": [
  {
   "cell_type": "code",
   "execution_count": 1,
   "id": "b9045aff",
   "metadata": {},
   "outputs": [],
   "source": [
    "import numpy as np\n",
    "from numpy.linalg import inv\n",
    "from icecream import ic"
   ]
  },
  {
   "cell_type": "code",
   "execution_count": 2,
   "id": "6a4a8601",
   "metadata": {},
   "outputs": [],
   "source": [
    "# RLS : recursive_least_square algorithm \n",
    "def RLS(P, x, next_a, next_b):\n",
    "    next_P = P - (P@next_a@next_a.T@P)/(1+next_a.T@P@next_a)\n",
    "    next_x = x + next_P@next_a*(next_b-next_a.T@x)\n",
    "    return next_P, next_x"
   ]
  },
  {
   "cell_type": "code",
   "execution_count": 3,
   "id": "e147b636",
   "metadata": {},
   "outputs": [
    {
     "name": "stderr",
     "output_type": "stream",
     "text": [
      "ic| P_0: array([[ 0.66666667, -0.33333333],\n",
      "                [-0.33333333,  0.66666667]])\n",
      "    x_0: array([[0.66666667],\n",
      "                [0.66666667]])\n",
      "ic| P_1: array([[ 0.33333333, -0.33333333],\n",
      "                [-0.33333333,  0.66666667]])\n",
      "    x_1: array([[1.        ],\n",
      "                [0.66666667]])\n",
      "ic| P_2: array([[ 0.16666667, -0.25      ],\n",
      "                [-0.25      ,  0.625     ]])\n",
      "    x_2: array([[1.08333333],\n",
      "                [0.625     ]])\n"
     ]
    },
    {
     "data": {
      "text/plain": [
       "(array([[ 0.16666667, -0.25      ],\n",
       "        [-0.25      ,  0.625     ]]),\n",
       " array([[1.08333333],\n",
       "        [0.625     ]]))"
      ]
     },
     "execution_count": 3,
     "metadata": {},
     "output_type": "execute_result"
    }
   ],
   "source": [
    "# initial value\n",
    "A_0 = np.array([[1, 0], [0, 1], [1, 1]])\n",
    "b_0 = np.array([[1,1,1]]).T\n",
    "\n",
    "P_0 = inv(A_0.T@A_0)\n",
    "x_0 = P_0@A_0.T@b_0\n",
    "ic(P_0, x_0)\n",
    "\n",
    "# first iteration\n",
    "a_1 = np.array([[2, 1]]).T\n",
    "b_1 = np.array([[3]])\n",
    "P_1, x_1 = RLS(P_0, x_0, a_1, b_1)\n",
    "ic(P_1, x_1)\n",
    "\n",
    "# second iteration\n",
    "a_2 = np.array([[3, 1]]).T\n",
    "b_2 = np.array([[4]])\n",
    "P_2, x_2 = RLS(P_1, x_1, a_2, b_2)\n",
    "ic(P_2, x_2)"
   ]
  },
  {
   "cell_type": "code",
   "execution_count": null,
   "id": "a07bea79",
   "metadata": {},
   "outputs": [],
   "source": []
  }
 ],
 "metadata": {
  "kernelspec": {
   "display_name": "pytorch",
   "language": "python",
   "name": "pytor"
  },
  "language_info": {
   "codemirror_mode": {
    "name": "ipython",
    "version": 3
   },
   "file_extension": ".py",
   "mimetype": "text/x-python",
   "name": "python",
   "nbconvert_exporter": "python",
   "pygments_lexer": "ipython3",
   "version": "3.7.6"
  }
 },
 "nbformat": 4,
 "nbformat_minor": 5
}
